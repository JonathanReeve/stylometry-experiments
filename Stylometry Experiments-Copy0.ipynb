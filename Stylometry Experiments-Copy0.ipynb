{
 "metadata": {
  "gist_id": "5cd08522c05cc557398a",
  "name": "",
  "signature": "sha256:ca7396407696ff4d1f4c43984933a1540aa548d8704605c444274bb61ae887ab"
 },
 "nbformat": 3,
 "nbformat_minor": 0,
 "worksheets": [
  {
   "cells": [
    {
     "cell_type": "code",
     "collapsed": false,
     "input": [
      "%matplotlib inline"
     ],
     "language": "python",
     "metadata": {},
     "outputs": [],
     "prompt_number": 1
    },
    {
     "cell_type": "code",
     "collapsed": false,
     "input": [
      "def PCA(data, dims_rescaled_data=2):\n",
      "    \"\"\"\n",
      "    returns: data transformed in 2 dims/columns + regenerated original data\n",
      "    pass in: data as 2D NumPy array\n",
      "    \"\"\"\n",
      "    import numpy as NP\n",
      "    from scipy import linalg as LA\n",
      "    m, n = data.shape\n",
      "    # mean center the data\n",
      "    data -= data.mean(axis=0)\n",
      "    # calculate the covariance matrix\n",
      "    # TODO: use the correlation matrix instead\n",
      "    R = NP.cov(data, rowvar=False)\n",
      "    # calculate eigenvectors & eigenvalues of the covariance matrix\n",
      "    # use 'eigh' rather than 'eig' since R is symmetric, \n",
      "    # the performance gain is substantial\n",
      "    evals, evecs = LA.eigh(R)\n",
      "    # sort eigenvalue in decreasing order\n",
      "    idx = NP.argsort(evals)[::-1]\n",
      "    evecs = evecs[:,idx]\n",
      "    # sort eigenvectors according to same index\n",
      "    evals = evals[idx]\n",
      "    # select the first n eigenvectors (n is desired dimension\n",
      "    # of rescaled data array, or dims_rescaled_data)\n",
      "    evecs = evecs[:, :dims_rescaled_data]\n",
      "    # carry out the transformation on the data using eigenvectors\n",
      "    # and return the re-scaled data, eigenvalues, and eigenvectors\n",
      "    return NP.dot(evecs.T, data.T).T\n",
      "\n",
      "def test_PCA(data, dims_rescaled_data=2):\n",
      "    '''\n",
      "    test by attempting to recover original data array from\n",
      "    the eigenvectors of its covariance matrix & comparing that\n",
      "    'recovered' array with the original data\n",
      "    '''\n",
      "    _ , _ , eigenvectors = PCA(data, dim_rescaled_data=2)\n",
      "    data_recovered = NP.dot(eigenvectors, m).T\n",
      "    data_recovered += data_recovered.mean(axis=0)\n",
      "    assert NP.allclose(data, data_recovered)\n",
      "\n",
      "\n",
      "def plot_pca(data):\n",
      "    from matplotlib import pyplot as MPL\n",
      "    clr1 =  '#2026B2'\n",
      "    fig = MPL.figure()\n",
      "    ax1 = fig.add_subplot(111)\n",
      "    data_resc = PCA(data)\n",
      "    ax1.plot(data_resc[:, 0], data_resc[:, 1], '.', mfc=clr1, mec=clr1)\n",
      "    MPL.show()"
     ],
     "language": "python",
     "metadata": {},
     "outputs": [],
     "prompt_number": 2
    },
    {
     "cell_type": "code",
     "collapsed": false,
     "input": [
      "import numpy as NP\n",
      "df='/home/jon/Dropbox/Research/stylometry-experiments/iris.csv' \n",
      "data = NP.loadtxt(df, delimiter=',')"
     ],
     "language": "python",
     "metadata": {},
     "outputs": [],
     "prompt_number": 3
    },
    {
     "cell_type": "code",
     "collapsed": false,
     "input": [
      "data.shape"
     ],
     "language": "python",
     "metadata": {},
     "outputs": [
      {
       "metadata": {},
       "output_type": "pyout",
       "prompt_number": 4,
       "text": [
        "(150, 4)"
       ]
      }
     ],
     "prompt_number": 4
    },
    {
     "cell_type": "code",
     "collapsed": false,
     "input": [
      "plot_pca(data)"
     ],
     "language": "python",
     "metadata": {},
     "outputs": [
      {
       "metadata": {},
       "output_type": "display_data",
       "png": "[encoded data removed]",
       "text": [
        "<matplotlib.figure.Figure at 0x7f8681d48f98>"
       ]
      }
     ],
     "prompt_number": 7
    },
    {
     "cell_type": "code",
     "collapsed": false,
     "input": [],
     "language": "python",
     "metadata": {},
     "outputs": [],
     "prompt_number": 6
    },
    {
     "cell_type": "code",
     "collapsed": false,
     "input": [
      "import nltk\n",
      "from nltk.book import *"
     ],
     "language": "python",
     "metadata": {},
     "outputs": [
      {
       "output_type": "stream",
       "stream": "stdout",
       "text": [
        "*** Introductory Examples for the NLTK Book ***\n",
        "Loading text1, ..., text9 and sent1, ..., sent9\n",
        "Type the name of the text or sentence to view it.\n",
        "Type: 'texts()' or 'sents()' to list the materials.\n",
        "text1:"
       ]
      },
      {
       "output_type": "stream",
       "stream": "stdout",
       "text": [
        " Moby Dick by Herman Melville 1851\n",
        "text2:"
       ]
      },
      {
       "output_type": "stream",
       "stream": "stdout",
       "text": [
        " Sense and Sensibility by Jane Austen 1811\n",
        "text3:"
       ]
      },
      {
       "output_type": "stream",
       "stream": "stdout",
       "text": [
        " The Book of Genesis\n",
        "text4:"
       ]
      },
      {
       "output_type": "stream",
       "stream": "stdout",
       "text": [
        " Inaugural Address Corpus\n",
        "text5:"
       ]
      },
      {
       "output_type": "stream",
       "stream": "stdout",
       "text": [
        " Chat Corpus\n",
        "text6:"
       ]
      },
      {
       "output_type": "stream",
       "stream": "stdout",
       "text": [
        " Monty Python and the Holy Grail\n",
        "text7:"
       ]
      },
      {
       "output_type": "stream",
       "stream": "stdout",
       "text": [
        " Wall Street Journal\n",
        "text8: Personals Corpus\n",
        "text9:"
       ]
      },
      {
       "output_type": "stream",
       "stream": "stdout",
       "text": [
        " The Man Who Was Thursday by G . K . Chesterton 1908\n"
       ]
      }
     ],
     "prompt_number": 8
    },
    {
     "cell_type": "code",
     "collapsed": false,
     "input": [
      "def pieces(text, length, num): \n",
      "    out = [] \n",
      "    for x in range(num): \n",
      "        out.append(text[length*x:length*(x+1)])\n",
      "    return out\n",
      "\n",
      "#mel_pieces = [text1[:1000], text1[1001:2000, text1[2001:3000], text1[3001:4000]]\n",
      "\n",
      "melpieces = pieces(text1, 1000, 4)\n",
      "auspieces = pieces(text2, 1000, 4)"
     ],
     "language": "python",
     "metadata": {},
     "outputs": [],
     "prompt_number": 9
    },
    {
     "cell_type": "code",
     "collapsed": false,
     "input": [
      "def freqdists(pieceslist, mfw): \n",
      "    dists=[]\n",
      "    for piece in pieceslist: \n",
      "        dists.append(FreqDist(piece).most_common(mfw))\n",
      "    return dists\n",
      "\n",
      "meldists = freqdists(melpieces, 100)\n",
      "ausdists = freqdists(auspieces, 100)"
     ],
     "language": "python",
     "metadata": {},
     "outputs": [],
     "prompt_number": 10
    },
    {
     "cell_type": "code",
     "collapsed": false,
     "input": [
      "meldists[0][1]"
     ],
     "language": "python",
     "metadata": {},
     "outputs": [
      {
       "metadata": {},
       "output_type": "pyout",
       "prompt_number": 66,
       "text": [
        "('.', 44)"
       ]
      }
     ],
     "prompt_number": 66
    },
    {
     "cell_type": "code",
     "collapsed": false,
     "input": [
      "top100=fdist.most_common(100)"
     ],
     "language": "python",
     "metadata": {},
     "outputs": [
      {
       "ename": "NameError",
       "evalue": "name 'fdist' is not defined",
       "output_type": "pyerr",
       "traceback": [
        "\u001b[1;31m---------------------------------------------------------------------------\u001b[0m\n\u001b[1;31mNameError\u001b[0m                                 Traceback (most recent call last)",
        "\u001b[1;32m<ipython-input-11-da75db89b0a2>\u001b[0m in \u001b[0;36m<module>\u001b[1;34m()\u001b[0m\n\u001b[1;32m----> 1\u001b[1;33m \u001b[0mtop100\u001b[0m\u001b[1;33m=\u001b[0m\u001b[0mfdist\u001b[0m\u001b[1;33m.\u001b[0m\u001b[0mmost_common\u001b[0m\u001b[1;33m(\u001b[0m\u001b[1;36m100\u001b[0m\u001b[1;33m)\u001b[0m\u001b[1;33m\u001b[0m\u001b[0m\n\u001b[0m",
        "\u001b[1;31mNameError\u001b[0m: name 'fdist' is not defined"
       ]
      }
     ],
     "prompt_number": 11
    },
    {
     "cell_type": "code",
     "collapsed": false,
     "input": [
      "top100[:5]"
     ],
     "language": "python",
     "metadata": {},
     "outputs": [
      {
       "metadata": {},
       "output_type": "pyout",
       "prompt_number": 17,
       "text": [
        "[(',', 18713), ('the', 13721), ('.', 6862), ('of', 6536), ('and', 6024)]"
       ]
      }
     ],
     "prompt_number": 17
    },
    {
     "cell_type": "code",
     "collapsed": false,
     "input": [
      "len(text1)"
     ],
     "language": "python",
     "metadata": {},
     "outputs": [
      {
       "metadata": {},
       "output_type": "pyout",
       "prompt_number": 18,
       "text": [
        "260819"
       ]
      }
     ],
     "prompt_number": 18
    },
    {
     "cell_type": "code",
     "collapsed": false,
     "input": [
      "type(top100[0])"
     ],
     "language": "python",
     "metadata": {},
     "outputs": [
      {
       "metadata": {},
       "output_type": "pyout",
       "prompt_number": 19,
       "text": [
        "tuple"
       ]
      }
     ],
     "prompt_number": 19
    },
    {
     "cell_type": "code",
     "collapsed": false,
     "input": [
      "def makePercents(freqdists, textlen): \n",
      "    percentlist = []\n",
      "    for dist in freqdists: \n",
      "        percents = [] \n",
      "        for word in dist: \n",
      "            wordtext = word[0]\n",
      "            wordfreq = word[1]\n",
      "            percentage = (wordfreq/textlen)*100\n",
      "            percentexpr = [wordtext, percentage]\n",
      "            percents.append(percentexpr)\n",
      "        percentlist.append(percents)\n",
      "    return percentlist\n",
      "\n",
      "melpercs = makePercents(meldists, len(text1))\n",
      "auspercs = makePercents(ausdists, len(text2))"
     ],
     "language": "python",
     "metadata": {},
     "outputs": [],
     "prompt_number": 25
    },
    {
     "cell_type": "code",
     "collapsed": false,
     "input": [
      "def makeComparisonArray(textA, textB): \n",
      "    for word in textA: \n",
      "        compword = []\n",
      "        # aaaaargh"
     ],
     "language": "python",
     "metadata": {},
     "outputs": [],
     "prompt_number": 29
    },
    {
     "cell_type": "code",
     "collapsed": false,
     "input": [
      "mtest = melvillepercents[:8]\n",
      "atest = austenpercents[:8]\n",
      "np.array(mtest)\n",
      "np.array(mtest, dtype=[('token', np.unicode_, 64),('perc', np.float)])"
     ],
     "language": "python",
     "metadata": {},
     "outputs": [
      {
       "ename": "NameError",
       "evalue": "name 'melvillepercents' is not defined",
       "output_type": "pyerr",
       "traceback": [
        "\u001b[1;31m---------------------------------------------------------------------------\u001b[0m\n\u001b[1;31mNameError\u001b[0m                                 Traceback (most recent call last)",
        "\u001b[1;32m<ipython-input-30-555bef33313f>\u001b[0m in \u001b[0;36m<module>\u001b[1;34m()\u001b[0m\n\u001b[1;32m----> 1\u001b[1;33m \u001b[0mmtest\u001b[0m \u001b[1;33m=\u001b[0m \u001b[0mmelvillepercents\u001b[0m\u001b[1;33m[\u001b[0m\u001b[1;33m:\u001b[0m\u001b[1;36m8\u001b[0m\u001b[1;33m]\u001b[0m\u001b[1;33m\u001b[0m\u001b[0m\n\u001b[0m\u001b[0;32m      2\u001b[0m \u001b[0matest\u001b[0m \u001b[1;33m=\u001b[0m \u001b[0maustenpercents\u001b[0m\u001b[1;33m[\u001b[0m\u001b[1;33m:\u001b[0m\u001b[1;36m8\u001b[0m\u001b[1;33m]\u001b[0m\u001b[1;33m\u001b[0m\u001b[0m\n\u001b[0;32m      3\u001b[0m \u001b[0mnp\u001b[0m\u001b[1;33m.\u001b[0m\u001b[0marray\u001b[0m\u001b[1;33m(\u001b[0m\u001b[0mmtest\u001b[0m\u001b[1;33m)\u001b[0m\u001b[1;33m\u001b[0m\u001b[0m\n\u001b[0;32m      4\u001b[0m \u001b[0mnp\u001b[0m\u001b[1;33m.\u001b[0m\u001b[0marray\u001b[0m\u001b[1;33m(\u001b[0m\u001b[0mmtest\u001b[0m\u001b[1;33m,\u001b[0m \u001b[0mdtype\u001b[0m\u001b[1;33m=\u001b[0m\u001b[1;33m[\u001b[0m\u001b[1;33m(\u001b[0m\u001b[1;34m'token'\u001b[0m\u001b[1;33m,\u001b[0m \u001b[0mnp\u001b[0m\u001b[1;33m.\u001b[0m\u001b[0municode_\u001b[0m\u001b[1;33m,\u001b[0m \u001b[1;36m64\u001b[0m\u001b[1;33m)\u001b[0m\u001b[1;33m,\u001b[0m\u001b[1;33m(\u001b[0m\u001b[1;34m'perc'\u001b[0m\u001b[1;33m,\u001b[0m \u001b[0mnp\u001b[0m\u001b[1;33m.\u001b[0m\u001b[0mfloat\u001b[0m\u001b[1;33m)\u001b[0m\u001b[1;33m]\u001b[0m\u001b[1;33m)\u001b[0m\u001b[1;33m\u001b[0m\u001b[0m\n",
        "\u001b[1;31mNameError\u001b[0m: name 'melvillepercents' is not defined"
       ]
      }
     ],
     "prompt_number": 30
    },
    {
     "cell_type": "code",
     "collapsed": false,
     "input": [
      "melNP=np.array(mtest, dtype=[('token', '|S100'),('mel_perc', '<f8')])\n",
      "ausNP=np.array(atest, dtype=[('token', '|S100'),('aus_perc', '<f8')])"
     ],
     "language": "python",
     "metadata": {},
     "outputs": [],
     "prompt_number": 55
    },
    {
     "cell_type": "code",
     "collapsed": false,
     "input": [
      "import numpy as np\n",
      "import numpy.lib.recfunctions as recfunctions\n",
      "def nplist(distlist, label): \n",
      "    \"\"\" \n",
      "    turns a list of freqency distributions in to a list of numpy arrays. \n",
      "    Params: a list of freqency distributions, a label (string) for the column, \n",
      "    representing the text\n",
      "    \"\"\" \n",
      "    nplist = []\n",
      "    i = 0 \n",
      "    for dist in distlist: \n",
      "        nplist.append(np.array(dist, dtype=[('token', np.unicode_, 64),(label+'_freq'+str(i), np.int16)]))\n",
      "        i += 1\n",
      "    return nplist\n",
      "\n",
      "# make the lists of freqency distributions into lists of numpy arrays\n",
      "melnps = nplist(meldists, 'mel')\n",
      "ausnps = nplist(ausdists, 'aus')\n"
     ],
     "language": "python",
     "metadata": {},
     "outputs": [],
     "prompt_number": 33
    },
    {
     "cell_type": "code",
     "collapsed": false,
     "input": [
      "melnps[1].dtype"
     ],
     "language": "python",
     "metadata": {},
     "outputs": [
      {
       "metadata": {},
       "output_type": "pyout",
       "prompt_number": 35,
       "text": [
        "dtype([('token', '<U64'), ('mel_freq1', '<i2')])"
       ]
      }
     ],
     "prompt_number": 35
    },
    {
     "cell_type": "markdown",
     "metadata": {},
     "source": [
      "I think the \"Masked Constant\" here, i.e. `--`, can be filled in using numpy.array.fillValue(), \n",
      "\n",
      "see http://docs.scipy.org/doc/numpy/reference/generated/numpy.ma.set_fill_value.html"
     ]
    },
    {
     "cell_type": "code",
     "collapsed": false,
     "input": [
      "def mergearrays(arraylist): \n",
      "    merged = None\n",
      "    for array in arraylist[1:]: \n",
      "        if None == merged: #first time\n",
      "            merged = recfunctions.join_by('token', array, arraylist[arraylist.index(array)-1]) #join first and second arrays\n",
      "        else: \n",
      "            merged = recfunctions.join_by('token', merged, array, jointype='outer')\n",
      "    return merged\n",
      "\n",
      "melnptotal = mergearrays(melnps + ausnps)\n",
      "type(melnptotal)"
     ],
     "language": "python",
     "metadata": {},
     "outputs": [
      {
       "metadata": {},
       "output_type": "pyout",
       "prompt_number": 108,
       "text": [
        "numpy.ma.core.MaskedArray"
       ]
      }
     ],
     "prompt_number": 108
    },
    {
     "cell_type": "code",
     "collapsed": false,
     "input": [
      "melnptotal.fill_value\n",
      "\n",
      "def fill_array(nparray):\n",
      "    \"\"\"\n",
      "    Takes a numpy masked array and fills it with zeros. \n",
      "    Assumes first column is tokens. \n",
      "    \"\"\" \n",
      "    size = len(nparray.fill_value)\n",
      "    newFillValue = ['N/A']\n",
      "    for i in range(size-1): \n",
      "        newFillValue.append(0)\n",
      "    newFillValue = tuple(newFillValue)\n",
      "    nparray.fill_value = newFillValue\n",
      "    filledArray = nparray.filled()\n",
      "    return filledArray\n",
      "\n",
      "npfilled = fill_array(melnptotal)\n",
      "npfilled[:5]"
     ],
     "language": "python",
     "metadata": {},
     "outputs": [
      {
       "metadata": {},
       "output_type": "pyout",
       "prompt_number": 105,
       "text": [
        "array([('!', 0, 0, 3, 10, 0, 2, 4, 4), ('!\"', 0, 0, 0, 5, 0, 0, 0, 0),\n",
        "       ('\"', 23, 13, 20, 32, 0, 0, 22, 9),\n",
        "       (\"'\", 21, 8, 23, 12, 5, 10, 0, 7), ('(', 3, 2, 2, 3, 0, 0, 0, 0)], \n",
        "      dtype=[('token', '<U64'), ('mel_freq1', '<i2'), ('mel_freq0', '<i2'), ('mel_freq2', '<i2'), ('mel_freq3', '<i2'), ('aus_freq0', '<i2'), ('aus_freq1', '<i2'), ('aus_freq2', '<i2'), ('aus_freq3', '<i2')])"
       ]
      }
     ],
     "prompt_number": 105
    },
    {
     "cell_type": "code",
     "collapsed": false,
     "input": [
      "numbers = npfilled.dtype.names[1:] #slice off the token names\n",
      "numbersArray = npfilled[[x for x in numbers]]\n",
      "data = np.array(numbersArray.tolist()).T"
     ],
     "language": "python",
     "metadata": {},
     "outputs": [],
     "prompt_number": 137
    },
    {
     "cell_type": "code",
     "collapsed": false,
     "input": [
      "plot_pca(data)"
     ],
     "language": "python",
     "metadata": {},
     "outputs": [
      {
       "metadata": {},
       "output_type": "display_data",
       "png": "[encoded data removed]",
       "text": [
        "<matplotlib.figure.Figure at 0x7f867735d8d0>"
       ]
      }
     ],
     "prompt_number": 138
    },
    {
     "cell_type": "code",
     "collapsed": false,
     "input": [
      "percs = result[['mel_perc','aus_perc']]\n",
      "percs.fill_value = 0\n",
      "percs = percs.filled()\n",
      "percs"
     ],
     "language": "python",
     "metadata": {},
     "outputs": [
      {
       "metadata": {},
       "output_type": "pyout",
       "prompt_number": 94,
       "text": [
        "array([(7.174707364110744, 3.6028816919012803),\n",
        "       (2.630943297842565, 1.524045410802127), (1.5612359529022042, 0.0),\n",
        "       (1.7517895552087845, 0.783301830004716),\n",
        "       (2.309647686709941, 1.2844156292294655), (0.0, 0.9339810366576055),\n",
        "       (2.505952403774265, 1.3668482740904613),\n",
        "       (5.260736372733581, 1.4803369386432736),\n",
        "       (1.7414375486448457, 1.557785284047558)], \n",
        "      dtype=[('mel_perc', '<f8'), ('aus_perc', '<f8')])"
       ]
      }
     ],
     "prompt_number": 94
    },
    {
     "cell_type": "code",
     "collapsed": false,
     "input": [
      "percs2 = np.transpose(np.array([percs['mel_perc'], percs['aus_perc']]))\n",
      "percs2"
     ],
     "language": "python",
     "metadata": {},
     "outputs": [
      {
       "metadata": {},
       "output_type": "pyout",
       "prompt_number": 105,
       "text": [
        "array([[ 7.17470736,  3.60288169],\n",
        "       [ 2.6309433 ,  1.52404541],\n",
        "       [ 1.56123595,  0.        ],\n",
        "       [ 1.75178956,  0.78330183],\n",
        "       [ 2.30964769,  1.28441563],\n",
        "       [ 0.        ,  0.93398104],\n",
        "       [ 2.5059524 ,  1.36684827],\n",
        "       [ 5.26073637,  1.48033694],\n",
        "       [ 1.74143755,  1.55778528]])"
       ]
      }
     ],
     "prompt_number": 105
    },
    {
     "cell_type": "code",
     "collapsed": false,
     "input": [
      "plot_pca(percs2)"
     ],
     "language": "python",
     "metadata": {},
     "outputs": [
      {
       "metadata": {},
       "output_type": "display_data",
       "png": "[encoded data removed]",
       "text": [
        "<matplotlib.figure.Figure at 0x7ffa7bcc8400>"
       ]
      }
     ],
     "prompt_number": 106
    },
    {
     "cell_type": "code",
     "collapsed": false,
     "input": [
      "result.shape"
     ],
     "language": "python",
     "metadata": {},
     "outputs": [
      {
       "metadata": {},
       "output_type": "pyout",
       "prompt_number": 143,
       "text": [
        "(9,)"
       ]
      }
     ],
     "prompt_number": 143
    },
    {
     "cell_type": "code",
     "collapsed": false,
     "input": [],
     "language": "python",
     "metadata": {},
     "outputs": []
    }
   ],
   "metadata": {}
  }
 ]
}