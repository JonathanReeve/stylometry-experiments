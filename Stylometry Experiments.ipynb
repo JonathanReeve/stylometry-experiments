{
 "cells": [
  {
   "cell_type": "code",
   "execution_count": 1,
   "metadata": {
    "collapsed": false
   },
   "outputs": [],
   "source": [
    "%matplotlib inline"
   ]
  },
  {
   "cell_type": "code",
   "execution_count": 91,
   "metadata": {
    "collapsed": false
   },
   "outputs": [],
   "source": [
    "def PCA(data, dims_rescaled_data=2):\n",
    "    \"\"\"\n",
    "    returns: data transformed in 2 dims/columns + regenerated original data\n",
    "    pass in: data as 2D NumPy array\n",
    "    \"\"\"\n",
    "    import numpy as NP\n",
    "    from scipy import linalg as LA\n",
    "    m, n = data.shape\n",
    "    # mean center the data\n",
    "    data -= data.mean(axis=0)\n",
    "    # calculate the covariance matrix\n",
    "    # TODO: use the correlation matrix instead\n",
    "    R = NP.cov(data, rowvar=False)\n",
    "    # calculate eigenvectors & eigenvalues of the covariance matrix\n",
    "    # use 'eigh' rather than 'eig' since R is symmetric, \n",
    "    # the performance gain is substantial\n",
    "    evals, evecs = LA.eigh(R)\n",
    "    # sort eigenvalue in decreasing order\n",
    "    idx = NP.argsort(evals)[::-1]\n",
    "    evecs = evecs[:,idx]\n",
    "    # sort eigenvectors according to same index\n",
    "    evals = evals[idx]\n",
    "    # select the first n eigenvectors (n is desired dimension\n",
    "    # of rescaled data array, or dims_rescaled_data)\n",
    "    evecs = evecs[:, :dims_rescaled_data]\n",
    "    # carry out the transformation on the data using eigenvectors\n",
    "    # and return the re-scaled data, eigenvalues, and eigenvectors\n",
    "    return NP.dot(evecs.T, data.T).T\n",
    "\n",
    "def test_PCA(data, dims_rescaled_data=2):\n",
    "    '''\n",
    "    test by attempting to recover original data array from\n",
    "    the eigenvectors of its covariance matrix & comparing that\n",
    "    'recovered' array with the original data\n",
    "    '''\n",
    "    _ , _ , eigenvectors = PCA(data, dim_rescaled_data=2)\n",
    "    data_recovered = NP.dot(eigenvectors, m).T\n",
    "    data_recovered += data_recovered.mean(axis=0)\n",
    "    assert NP.allclose(data, data_recovered)\n",
    "\n",
    "\n",
    "def plot_pca(data):\n",
    "    from matplotlib import pyplot as MPL\n",
    "    clr1 =  '#2026B2'\n",
    "    fig = MPL.figure()\n",
    "    ax1 = fig.add_subplot(111)\n",
    "    data_resc = PCA(data)\n",
    "    ax1.plot(data_resc[:, 0], data_resc[:, 1], '.', mfc=clr1, mec=clr1)\n",
    "    print( data_resc )\n",
    "    MPL.show()"
   ]
  },
  {
   "cell_type": "code",
   "execution_count": null,
   "metadata": {
    "collapsed": true
   },
   "outputs": [],
   "source": []
  },
  {
   "cell_type": "code",
   "execution_count": 3,
   "metadata": {
    "collapsed": false
   },
   "outputs": [
    {
     "name": "stdout",
     "output_type": "stream",
     "text": [
      "Help on function loadtxt in module numpy.lib.npyio:\n",
      "\n",
      "loadtxt(fname, dtype=<class 'float'>, comments='#', delimiter=None, converters=None, skiprows=0, usecols=None, unpack=False, ndmin=0)\n",
      "    Load data from a text file.\n",
      "    \n",
      "    Each row in the text file must have the same number of values.\n",
      "    \n",
      "    Parameters\n",
      "    ----------\n",
      "    fname : file or str\n",
      "        File, filename, or generator to read.  If the filename extension is\n",
      "        ``.gz`` or ``.bz2``, the file is first decompressed. Note that\n",
      "        generators should return byte strings for Python 3k.\n",
      "    dtype : data-type, optional\n",
      "        Data-type of the resulting array; default: float.  If this is a\n",
      "        record data-type, the resulting array will be 1-dimensional, and\n",
      "        each row will be interpreted as an element of the array.  In this\n",
      "        case, the number of columns used must match the number of fields in\n",
      "        the data-type.\n",
      "    comments : str, optional\n",
      "        The character used to indicate the start of a comment;\n",
      "        default: '#'.\n",
      "    delimiter : str, optional\n",
      "        The string used to separate values.  By default, this is any\n",
      "        whitespace.\n",
      "    converters : dict, optional\n",
      "        A dictionary mapping column number to a function that will convert\n",
      "        that column to a float.  E.g., if column 0 is a date string:\n",
      "        ``converters = {0: datestr2num}``.  Converters can also be used to\n",
      "        provide a default value for missing data (but see also `genfromtxt`):\n",
      "        ``converters = {3: lambda s: float(s.strip() or 0)}``.  Default: None.\n",
      "    skiprows : int, optional\n",
      "        Skip the first `skiprows` lines; default: 0.\n",
      "    usecols : sequence, optional\n",
      "        Which columns to read, with 0 being the first.  For example,\n",
      "        ``usecols = (1,4,5)`` will extract the 2nd, 5th and 6th columns.\n",
      "        The default, None, results in all columns being read.\n",
      "    unpack : bool, optional\n",
      "        If True, the returned array is transposed, so that arguments may be\n",
      "        unpacked using ``x, y, z = loadtxt(...)``.  When used with a record\n",
      "        data-type, arrays are returned for each field.  Default is False.\n",
      "    ndmin : int, optional\n",
      "        The returned array will have at least `ndmin` dimensions.\n",
      "        Otherwise mono-dimensional axes will be squeezed.\n",
      "        Legal values: 0 (default), 1 or 2.\n",
      "    \n",
      "        .. versionadded:: 1.6.0\n",
      "    \n",
      "    Returns\n",
      "    -------\n",
      "    out : ndarray\n",
      "        Data read from the text file.\n",
      "    \n",
      "    See Also\n",
      "    --------\n",
      "    load, fromstring, fromregex\n",
      "    genfromtxt : Load data with missing values handled as specified.\n",
      "    scipy.io.loadmat : reads MATLAB data files\n",
      "    \n",
      "    Notes\n",
      "    -----\n",
      "    This function aims to be a fast reader for simply formatted files.  The\n",
      "    `genfromtxt` function provides more sophisticated handling of, e.g.,\n",
      "    lines with missing values.\n",
      "    \n",
      "    Examples\n",
      "    --------\n",
      "    >>> from StringIO import StringIO   # StringIO behaves like a file object\n",
      "    >>> c = StringIO(\"0 1\\n2 3\")\n",
      "    >>> np.loadtxt(c)\n",
      "    array([[ 0.,  1.],\n",
      "           [ 2.,  3.]])\n",
      "    \n",
      "    >>> d = StringIO(\"M 21 72\\nF 35 58\")\n",
      "    >>> np.loadtxt(d, dtype={'names': ('gender', 'age', 'weight'),\n",
      "    ...                      'formats': ('S1', 'i4', 'f4')})\n",
      "    array([('M', 21, 72.0), ('F', 35, 58.0)],\n",
      "          dtype=[('gender', '|S1'), ('age', '<i4'), ('weight', '<f4')])\n",
      "    \n",
      "    >>> c = StringIO(\"1,0,2\\n3,0,4\")\n",
      "    >>> x, y = np.loadtxt(c, delimiter=',', usecols=(0, 2), unpack=True)\n",
      "    >>> x\n",
      "    array([ 1.,  3.])\n",
      "    >>> y\n",
      "    array([ 2.,  4.])\n",
      "\n"
     ]
    }
   ],
   "source": [
    "import numpy as NP\n",
    "df='/home/jon/Dropbox/Research/stylometry-experiments/iris.csv' \n",
    "data = NP.loadtxt(df, delimiter=',')\n",
    "help(NP.loadtxt)"
   ]
  },
  {
   "cell_type": "code",
   "execution_count": 4,
   "metadata": {
    "collapsed": false
   },
   "outputs": [
    {
     "data": {
      "text/plain": [
       "(150, 4)"
      ]
     },
     "execution_count": 4,
     "metadata": {},
     "output_type": "execute_result"
    }
   ],
   "source": [
    "data.shape"
   ]
  },
  {
   "cell_type": "code",
   "execution_count": 5,
   "metadata": {
    "collapsed": false
   },
   "outputs": [
    {
     "data": {
      "image/png": "[encoded data removed]",
      "text/plain": [
       "<matplotlib.figure.Figure at 0x7fe30012eda0>"
      ]
     },
     "metadata": {},
     "output_type": "display_data"
    }
   ],
   "source": [
    "plot_pca(data)"
   ]
  },
  {
   "cell_type": "code",
   "execution_count": 6,
   "metadata": {
    "collapsed": false
   },
   "outputs": [
    {
     "name": "stdout",
     "output_type": "stream",
     "text": [
      "*** Introductory Examples for the NLTK Book ***\n",
      "Loading text1, ..., text9 and sent1, ..., sent9\n",
      "Type the name of the text or sentence to view it.\n",
      "Type: 'texts()' or 'sents()' to list the materials.\n",
      "text1: Moby Dick by Herman Melville 1851\n",
      "text2: Sense and Sensibility by Jane Austen 1811\n",
      "text3: The Book of Genesis\n",
      "text4: Inaugural Address Corpus\n",
      "text5: Chat Corpus\n",
      "text6: Monty Python and the Holy Grail\n",
      "text7: Wall Street Journal\n",
      "text8: Personals Corpus\n",
      "text9: The Man Who Was Thursday by G . K . Chesterton 1908\n"
     ]
    }
   ],
   "source": [
    "import nltk\n",
    "from nltk.book import *"
   ]
  },
  {
   "cell_type": "code",
   "execution_count": 7,
   "metadata": {
    "collapsed": false
   },
   "outputs": [],
   "source": [
    "def pieces(text, length, num): \n",
    "    out = [] \n",
    "    for x in range(num): \n",
    "        out.append(text[length*x:length*(x+1)])\n",
    "    return out\n",
    "\n",
    "#mel_pieces = [text1[:1000], text1[1001:2000, text1[2001:3000], text1[3001:4000]]\n",
    "\n",
    "melpieces = pieces(text1, 1000, 4)\n",
    "auspieces = pieces(text2, 1000, 4)"
   ]
  },
  {
   "cell_type": "code",
   "execution_count": 8,
   "metadata": {
    "collapsed": false
   },
   "outputs": [],
   "source": [
    "def freqdists(pieceslist, mfw): \n",
    "    dists=[]\n",
    "    for piece in pieceslist: \n",
    "        dists.append(FreqDist(piece).most_common(mfw))\n",
    "    return dists\n",
    "\n",
    "meldists = freqdists(melpieces, 100)\n",
    "ausdists = freqdists(auspieces, 100)"
   ]
  },
  {
   "cell_type": "code",
   "execution_count": 9,
   "metadata": {
    "collapsed": false
   },
   "outputs": [
    {
     "data": {
      "text/plain": [
       "('.', 44)"
      ]
     },
     "execution_count": 9,
     "metadata": {},
     "output_type": "execute_result"
    }
   ],
   "source": [
    "meldists[0][1]"
   ]
  },
  {
   "cell_type": "code",
   "execution_count": 10,
   "metadata": {
    "collapsed": false
   },
   "outputs": [
    {
     "ename": "NameError",
     "evalue": "name 'fdist' is not defined",
     "output_type": "error",
     "traceback": [
      "\u001b[1;31m---------------------------------------------------------------------------\u001b[0m\n\u001b[1;31mNameError\u001b[0m                                 Traceback (most recent call last)",
      "\u001b[1;32m<ipython-input-10-da75db89b0a2>\u001b[0m in \u001b[0;36m<module>\u001b[1;34m()\u001b[0m\n\u001b[1;32m----> 1\u001b[1;33m \u001b[0mtop100\u001b[0m\u001b[1;33m=\u001b[0m\u001b[0mfdist\u001b[0m\u001b[1;33m.\u001b[0m\u001b[0mmost_common\u001b[0m\u001b[1;33m(\u001b[0m\u001b[1;36m100\u001b[0m\u001b[1;33m)\u001b[0m\u001b[1;33m\u001b[0m\u001b[0m\n\u001b[0m",
      "\u001b[1;31mNameError\u001b[0m: name 'fdist' is not defined"
     ]
    }
   ],
   "source": [
    "top100=fdist.most_common(100)"
   ]
  },
  {
   "cell_type": "code",
   "execution_count": 11,
   "metadata": {
    "collapsed": false
   },
   "outputs": [
    {
     "ename": "NameError",
     "evalue": "name 'top100' is not defined",
     "output_type": "error",
     "traceback": [
      "\u001b[1;31m---------------------------------------------------------------------------\u001b[0m\n\u001b[1;31mNameError\u001b[0m                                 Traceback (most recent call last)",
      "\u001b[1;32m<ipython-input-11-d34777eb7904>\u001b[0m in \u001b[0;36m<module>\u001b[1;34m()\u001b[0m\n\u001b[1;32m----> 1\u001b[1;33m \u001b[0mtop100\u001b[0m\u001b[1;33m[\u001b[0m\u001b[1;33m:\u001b[0m\u001b[1;36m5\u001b[0m\u001b[1;33m]\u001b[0m\u001b[1;33m\u001b[0m\u001b[0m\n\u001b[0m",
      "\u001b[1;31mNameError\u001b[0m: name 'top100' is not defined"
     ]
    }
   ],
   "source": [
    "top100[:5]"
   ]
  },
  {
   "cell_type": "code",
   "execution_count": 12,
   "metadata": {
    "collapsed": false
   },
   "outputs": [
    {
     "data": {
      "text/plain": [
       "260819"
      ]
     },
     "execution_count": 12,
     "metadata": {},
     "output_type": "execute_result"
    }
   ],
   "source": [
    "len(text1)"
   ]
  },
  {
   "cell_type": "code",
   "execution_count": 13,
   "metadata": {
    "collapsed": false
   },
   "outputs": [
    {
     "ename": "NameError",
     "evalue": "name 'top100' is not defined",
     "output_type": "error",
     "traceback": [
      "\u001b[1;31m---------------------------------------------------------------------------\u001b[0m\n\u001b[1;31mNameError\u001b[0m                                 Traceback (most recent call last)",
      "\u001b[1;32m<ipython-input-13-0b34e9f125e6>\u001b[0m in \u001b[0;36m<module>\u001b[1;34m()\u001b[0m\n\u001b[1;32m----> 1\u001b[1;33m \u001b[0mtype\u001b[0m\u001b[1;33m(\u001b[0m\u001b[0mtop100\u001b[0m\u001b[1;33m[\u001b[0m\u001b[1;36m0\u001b[0m\u001b[1;33m]\u001b[0m\u001b[1;33m)\u001b[0m\u001b[1;33m\u001b[0m\u001b[0m\n\u001b[0m",
      "\u001b[1;31mNameError\u001b[0m: name 'top100' is not defined"
     ]
    }
   ],
   "source": [
    "type(top100[0])"
   ]
  },
  {
   "cell_type": "code",
   "execution_count": 35,
   "metadata": {
    "collapsed": false
   },
   "outputs": [],
   "source": [
    "def makePercents(freqdists, textlen): \n",
    "    percentlist = []\n",
    "    for dist in freqdists: \n",
    "        percents = [] \n",
    "        for word in dist: \n",
    "            wordtext = word[0]\n",
    "            wordfreq = word[1]\n",
    "            percentage = (wordfreq/textlen)*100\n",
    "            percentexpr = [wordtext, percentage]\n",
    "            percents.append(percentexpr)\n",
    "        percentlist.append(percents)\n",
    "    return percentlist\n",
    "\n",
    "melpercs = makePercents(meldists, len(text1))\n",
    "auspercs = makePercents(ausdists, len(text2))"
   ]
  },
  {
   "cell_type": "code",
   "execution_count": 16,
   "metadata": {
    "collapsed": false
   },
   "outputs": [],
   "source": [
    "def makeComparisonArray(textA, textB): \n",
    "    for word in textA: \n",
    "        compword = []\n",
    "        # aaaaargh"
   ]
  },
  {
   "cell_type": "code",
   "execution_count": 34,
   "metadata": {
    "collapsed": false
   },
   "outputs": [
    {
     "ename": "NameError",
     "evalue": "name 'melvillepercents' is not defined",
     "output_type": "error",
     "traceback": [
      "\u001b[1;31m---------------------------------------------------------------------------\u001b[0m\n\u001b[1;31mNameError\u001b[0m                                 Traceback (most recent call last)",
      "\u001b[1;32m<ipython-input-34-555bef33313f>\u001b[0m in \u001b[0;36m<module>\u001b[1;34m()\u001b[0m\n\u001b[1;32m----> 1\u001b[1;33m \u001b[0mmtest\u001b[0m \u001b[1;33m=\u001b[0m \u001b[0mmelvillepercents\u001b[0m\u001b[1;33m[\u001b[0m\u001b[1;33m:\u001b[0m\u001b[1;36m8\u001b[0m\u001b[1;33m]\u001b[0m\u001b[1;33m\u001b[0m\u001b[0m\n\u001b[0m\u001b[0;32m      2\u001b[0m \u001b[0matest\u001b[0m \u001b[1;33m=\u001b[0m \u001b[0maustenpercents\u001b[0m\u001b[1;33m[\u001b[0m\u001b[1;33m:\u001b[0m\u001b[1;36m8\u001b[0m\u001b[1;33m]\u001b[0m\u001b[1;33m\u001b[0m\u001b[0m\n\u001b[0;32m      3\u001b[0m \u001b[0mnp\u001b[0m\u001b[1;33m.\u001b[0m\u001b[0marray\u001b[0m\u001b[1;33m(\u001b[0m\u001b[0mmtest\u001b[0m\u001b[1;33m)\u001b[0m\u001b[1;33m\u001b[0m\u001b[0m\n\u001b[0;32m      4\u001b[0m \u001b[0mnp\u001b[0m\u001b[1;33m.\u001b[0m\u001b[0marray\u001b[0m\u001b[1;33m(\u001b[0m\u001b[0mmtest\u001b[0m\u001b[1;33m,\u001b[0m \u001b[0mdtype\u001b[0m\u001b[1;33m=\u001b[0m\u001b[1;33m[\u001b[0m\u001b[1;33m(\u001b[0m\u001b[1;34m'token'\u001b[0m\u001b[1;33m,\u001b[0m \u001b[0mnp\u001b[0m\u001b[1;33m.\u001b[0m\u001b[0municode_\u001b[0m\u001b[1;33m,\u001b[0m \u001b[1;36m64\u001b[0m\u001b[1;33m)\u001b[0m\u001b[1;33m,\u001b[0m\u001b[1;33m(\u001b[0m\u001b[1;34m'perc'\u001b[0m\u001b[1;33m,\u001b[0m \u001b[0mnp\u001b[0m\u001b[1;33m.\u001b[0m\u001b[0mfloat\u001b[0m\u001b[1;33m)\u001b[0m\u001b[1;33m]\u001b[0m\u001b[1;33m)\u001b[0m\u001b[1;33m\u001b[0m\u001b[0m\n",
      "\u001b[1;31mNameError\u001b[0m: name 'melvillepercents' is not defined"
     ]
    }
   ],
   "source": [
    "mtest = melvillepercents[:8]\n",
    "atest = austenpercents[:8]\n",
    "np.array(mtest)\n",
    "np.array(mtest, dtype=[('token', np.unicode_, 64),('perc', np.float)])"
   ]
  },
  {
   "cell_type": "code",
   "execution_count": 18,
   "metadata": {
    "collapsed": false
   },
   "outputs": [
    {
     "ename": "NameError",
     "evalue": "name 'np' is not defined",
     "output_type": "error",
     "traceback": [
      "\u001b[1;31m---------------------------------------------------------------------------\u001b[0m\n\u001b[1;31mNameError\u001b[0m                                 Traceback (most recent call last)",
      "\u001b[1;32m<ipython-input-18-4a8ab70a1985>\u001b[0m in \u001b[0;36m<module>\u001b[1;34m()\u001b[0m\n\u001b[1;32m----> 1\u001b[1;33m \u001b[0mmelNP\u001b[0m\u001b[1;33m=\u001b[0m\u001b[0mnp\u001b[0m\u001b[1;33m.\u001b[0m\u001b[0marray\u001b[0m\u001b[1;33m(\u001b[0m\u001b[0mmtest\u001b[0m\u001b[1;33m,\u001b[0m \u001b[0mdtype\u001b[0m\u001b[1;33m=\u001b[0m\u001b[1;33m[\u001b[0m\u001b[1;33m(\u001b[0m\u001b[1;34m'token'\u001b[0m\u001b[1;33m,\u001b[0m \u001b[1;34m'|S100'\u001b[0m\u001b[1;33m)\u001b[0m\u001b[1;33m,\u001b[0m\u001b[1;33m(\u001b[0m\u001b[1;34m'mel_perc'\u001b[0m\u001b[1;33m,\u001b[0m \u001b[1;34m'<f8'\u001b[0m\u001b[1;33m)\u001b[0m\u001b[1;33m]\u001b[0m\u001b[1;33m)\u001b[0m\u001b[1;33m\u001b[0m\u001b[0m\n\u001b[0m\u001b[0;32m      2\u001b[0m \u001b[0mausNP\u001b[0m\u001b[1;33m=\u001b[0m\u001b[0mnp\u001b[0m\u001b[1;33m.\u001b[0m\u001b[0marray\u001b[0m\u001b[1;33m(\u001b[0m\u001b[0matest\u001b[0m\u001b[1;33m,\u001b[0m \u001b[0mdtype\u001b[0m\u001b[1;33m=\u001b[0m\u001b[1;33m[\u001b[0m\u001b[1;33m(\u001b[0m\u001b[1;34m'token'\u001b[0m\u001b[1;33m,\u001b[0m \u001b[1;34m'|S100'\u001b[0m\u001b[1;33m)\u001b[0m\u001b[1;33m,\u001b[0m\u001b[1;33m(\u001b[0m\u001b[1;34m'aus_perc'\u001b[0m\u001b[1;33m,\u001b[0m \u001b[1;34m'<f8'\u001b[0m\u001b[1;33m)\u001b[0m\u001b[1;33m]\u001b[0m\u001b[1;33m)\u001b[0m\u001b[1;33m\u001b[0m\u001b[0m\n",
      "\u001b[1;31mNameError\u001b[0m: name 'np' is not defined"
     ]
    }
   ],
   "source": [
    "melNP=np.array(mtest, dtype=[('token', '|S100'),('mel_perc', '<f8')])\n",
    "ausNP=np.array(atest, dtype=[('token', '|S100'),('aus_perc', '<f8')])"
   ]
  },
  {
   "cell_type": "code",
   "execution_count": 36,
   "metadata": {
    "collapsed": false
   },
   "outputs": [],
   "source": [
    "import numpy as np\n",
    "import numpy.lib.recfunctions as recfunctions\n",
    "def nplist(distlist, label): \n",
    "    \"\"\" \n",
    "    turns a list of freqency distributions in to a list of numpy arrays. \n",
    "    Params: a list of freqency distributions, a label (string) for the column, \n",
    "    representing the text\n",
    "    \"\"\" \n",
    "    nplist = []\n",
    "    i = 0 \n",
    "    for dist in distlist: \n",
    "        nplist.append(np.array(dist, dtype=[('token', np.unicode_, 64),(label+'_freq'+str(i), np.int16)]))\n",
    "        i += 1\n",
    "    return nplist\n",
    "\n",
    "# make the lists of freqency distributions into lists of numpy arrays\n",
    "melnps = nplist(meldists, 'mel')\n",
    "ausnps = nplist(ausdists, 'aus')\n"
   ]
  },
  {
   "cell_type": "code",
   "execution_count": 37,
   "metadata": {
    "collapsed": false
   },
   "outputs": [
    {
     "data": {
      "text/plain": [
       "[array([(',', 74), ('his', 39), ('of', 36), ('and', 33), ('.', 33),\n",
       "        ('the', 32), ('to', 29), ('a', 21), ('was', 20), ('for', 17),\n",
       "        ('in', 16), ('he', 14), ('had', 13), ('as', 12), ('by', 11),\n",
       "        (';', 10), ('which', 9), ('Dashwood', 9), ('Mr', 8), ('their', 7),\n",
       "        ('son', 7), ('but', 7), ('estate', 7), ('The', 6), ('such', 6),\n",
       "        ('him', 6), ('so', 6), ('years', 6), ('from', 6), ('-', 6),\n",
       "        ('them', 5), ('who', 5), ('s', 5), ('be', 5), ('all', 5),\n",
       "        ('not', 5), ('an', 5), ('it', 5), (\"'\", 5), ('on', 5),\n",
       "        ('daughters', 4), ('father', 4), ('own', 4), ('old', 4),\n",
       "        ('might', 4), ('fortune', 4), ('mother', 4), ('many', 4), ('at', 4),\n",
       "        ('Norland', 4), ('been', 4), ('He', 4), ('her', 4), ('more', 3),\n",
       "        ('with', 3), ('child', 3), ('His', 3), ('power', 3), ('three', 3),\n",
       "        ('large', 3), ('no', 3), ('respectable', 3), ('nephew', 3),\n",
       "        ('Henry', 3), ('interest', 3), ('could', 3), ('children', 3),\n",
       "        ('man', 3), ('thousand', 3), ('or', 3), ('himself', 3), (':', 3),\n",
       "        ('age', 3), ('only', 3), ('every', 3), ('family', 3), ('pounds', 3),\n",
       "        ('rather', 2), ('lived', 2), ('added', 2), ('general', 2),\n",
       "        ('marriage', 2), ('Their', 2), ('will', 2), ('constant', 2),\n",
       "        ('disposed', 2), ('gave', 2), ('wife', 2), ('ten', 2), ('way', 2),\n",
       "        ('happened', 2), ('half', 2), ('life', 2), ('almost', 2),\n",
       "        ('uncle', 2), ('that', 2), ('one', 2), ('great', 2), ('late', 2),\n",
       "        ('most', 2)], \n",
       "       dtype=[('token', '<U64'), ('aus_freq0', '<i2')]),\n",
       " array([(',', 74), ('her', 38), ('of', 36), ('.', 35), ('and', 28),\n",
       "        ('to', 28), ('was', 23), ('the', 22), ('a', 18), ('in', 15),\n",
       "        (';', 14), ('with', 13), ('-', 13), ('could', 12), ('she', 11),\n",
       "        ('his', 11), ('s', 10), ('he', 10), (\"'\", 10), ('but', 9),\n",
       "        ('Mrs', 9), ('Dashwood', 9), ('had', 8), ('it', 8), ('their', 7),\n",
       "        ('for', 7), ('them', 7), ('mother', 7), ('so', 7), ('as', 6),\n",
       "        ('by', 5), ('which', 5), ('himself', 5), ('have', 5), ('Elinor', 4),\n",
       "        ('were', 4), ('thousand', 4), (':', 4), ('She', 4), ('be', 4),\n",
       "        ('did', 4), ('that', 4), ('would', 4), ('John', 4), ('sisters', 4),\n",
       "        ('law', 4), ('other', 3), ('father', 3), ('husband', 3),\n",
       "        ('house', 3), ('present', 3), ('all', 3), ('no', 3), ('equal', 3),\n",
       "        ('herself', 3), ('at', 3), ('much', 3), (';--', 3), ('been', 3),\n",
       "        ('everything', 3), ('He', 3), ('not', 3), ('sister', 3), ('any', 3),\n",
       "        ('pounds', 3), ('The', 3), ('feel', 3), ('on', 3), ('when', 2),\n",
       "        ('more', 2), ('child', 2), ('this', 2), ('how', 2), ('never', 2),\n",
       "        ('gave', 2), ('own', 2), ('sense', 2), ('similar', 2), ('mind', 2),\n",
       "        ('good', 2), ('brother', 2), ('made', 2), ('heart', 2),\n",
       "        ('three', 2), ('!', 2), ('They', 2), ('resolved', 2), ('strong', 2),\n",
       "        ('again', 2), ('one', 2), ('arrival', 2), ('eldest', 2),\n",
       "        ('generosity', 2), ('till', 2), ('very', 2), ('daughter', 2),\n",
       "        ('must', 2), ('many', 2), ('girl', 2), ('remaining', 2)], \n",
       "       dtype=[('token', '<U64'), ('aus_freq1', '<i2')]),\n",
       " array([(',', 64), ('.', 28), ('to', 25), ('\"', 22), ('be', 20), ('it', 18),\n",
       "        ('the', 16), ('of', 14), ('and', 13), ('a', 13), ('for', 12),\n",
       "        ('.\"', 12), ('would', 12), ('not', 12), ('his', 11), ('I', 11),\n",
       "        ('he', 11), ('was', 10), ('do', 10), ('is', 9), ('them', 9),\n",
       "        ('as', 9), ('in', 9), ('they', 8), ('have', 8), ('that', 8),\n",
       "        ('at', 8), ('pounds', 8), ('their', 7), ('all', 7), ('could', 7),\n",
       "        (';', 7), ('her', 7), ('half', 7), (',\"', 6), ('will', 6),\n",
       "        ('on', 6), ('very', 6), ('than', 6), ('sisters', 6), ('she', 6),\n",
       "        ('what', 5), ('thousand', 5), ('if', 5), ('sure', 5), ('can', 5),\n",
       "        ('any', 5), ('no', 5), ('so', 5), ('little', 5), ('sum', 4),\n",
       "        ('well', 4), ('more', 4), ('To', 4), ('hundred', 4), ('by', 4),\n",
       "        ('But', 4), ('may', 4), ('should', 4), ('--', 4), ('something', 4),\n",
       "        ('only', 4), ('!', 4), ('think', 4), ('time', 3), ('with', 3),\n",
       "        ('child', 3), ('beyond', 3), ('husband', 3), ('make', 3),\n",
       "        ('such', 3), ('addition', 3), ('you', 3), ('ten', 3), ('too', 3),\n",
       "        ('but', 3), ('If', 3), ('large', 3), ('fortune', 3), ('away', 3),\n",
       "        ('said', 3), ('three', 3), ('one', 3), ('did', 3), ('him', 3),\n",
       "        ('then', 3), ('comfortable', 3), ('must', 3), ('give', 3),\n",
       "        ('me', 3), ('dear', 3), ('He', 3), ('done', 3), ('my', 3),\n",
       "        ('rather', 2), ('which', 2), ('afford', 2), ('therefore', 2),\n",
       "        ('Harry', 2), ('parted', 2)], \n",
       "       dtype=[('token', '<U64'), ('aus_freq2', '<i2')]),\n",
       " array([(',', 61), ('.', 33), ('of', 31), ('and', 30), ('to', 23),\n",
       "        ('be', 21), ('it', 21), ('the', 19), ('will', 18), ('I', 18),\n",
       "        (';', 14), ('my', 14), ('them', 13), ('no', 12), ('for', 11),\n",
       "        ('is', 11), ('a', 11), ('you', 10), ('\"', 9), ('was', 9),\n",
       "        ('have', 9), ('mother', 9), ('they', 8), ('your', 7), ('such', 7),\n",
       "        ('as', 7), (\"'\", 7), ('more', 6), ('father', 6), ('.\"', 6),\n",
       "        ('all', 6), ('s', 6), ('at', 6), ('would', 6), ('not', 6),\n",
       "        ('year', 6), ('their', 5), ('by', 5), ('that', 5), ('one', 5),\n",
       "        ('are', 5), ('in', 5), ('any', 5), ('pounds', 5), ('on', 5),\n",
       "        ('what', 4), ('It', 4), ('how', 4), ('sure', 4), ('own', 4),\n",
       "        ('They', 4), ('then', 4), ('very', 4), ('may', 4), ('thing', 4),\n",
       "        ('Dashwood', 4), ('there', 4), ('than', 4), ('-', 4), ('!', 4),\n",
       "        ('nothing', 3), ('an', 3), ('say', 3), ('Mr', 3), ('myself', 3),\n",
       "        ('can', 3), ('hundred', 3), ('fifty', 3), ('payment', 3),\n",
       "        ('income', 3), ('live', 3), ('annuities', 3), ('said', 3),\n",
       "        ('annuity', 3), ('comfortable', 3), ('out', 3), ('every', 3),\n",
       "        ('if', 3), ('assistance', 3), ('yearly', 3), ('money', 3),\n",
       "        ('certainly', 3), ('house', 3), (',\"', 3), ('am', 3), ('her', 3),\n",
       "        ('now', 3), ('whatever', 3), ('think', 3), ('he', 3), ('she', 3),\n",
       "        ('because', 2), ('were', 2), ('with', 2), ('thousand', 2),\n",
       "        ('Her', 2), ('My', 2), ('When', 2), ('right', 2), ('To', 2)], \n",
       "       dtype=[('token', '<U64'), ('aus_freq3', '<i2')])]"
      ]
     },
     "execution_count": 37,
     "metadata": {},
     "output_type": "execute_result"
    }
   ],
   "source": [
    "ausnps"
   ]
  },
  {
   "cell_type": "code",
   "execution_count": 38,
   "metadata": {
    "collapsed": false
   },
   "outputs": [
    {
     "data": {
      "text/plain": [
       "dtype([('token', '<U64'), ('mel_freq1', '<i2')])"
      ]
     },
     "execution_count": 38,
     "metadata": {},
     "output_type": "execute_result"
    }
   ],
   "source": [
    "melnps[1].dtype"
   ]
  },
  {
   "cell_type": "markdown",
   "metadata": {},
   "source": [
    "I think the \"Masked Constant\" here, i.e. `--`, can be filled in using numpy.array.fillValue(), \n",
    "\n",
    "see http://docs.scipy.org/doc/numpy/reference/generated/numpy.ma.set_fill_value.html"
   ]
  },
  {
   "cell_type": "code",
   "execution_count": 39,
   "metadata": {
    "collapsed": false
   },
   "outputs": [
    {
     "data": {
      "text/plain": [
       "numpy.ma.core.MaskedArray"
      ]
     },
     "execution_count": 39,
     "metadata": {},
     "output_type": "execute_result"
    }
   ],
   "source": [
    "def mergearrays(arraylist): \n",
    "    merged = None\n",
    "    for array in arraylist[1:]: \n",
    "        if None == merged: #first time\n",
    "            merged = recfunctions.join_by('token', array, arraylist[arraylist.index(array)-1]) #join first and second arrays\n",
    "        else: \n",
    "            merged = recfunctions.join_by('token', merged, array, jointype='outer')\n",
    "    return merged\n",
    "\n",
    "melnptotal = mergearrays(melnps + ausnps)\n",
    "type(melnptotal)"
   ]
  },
  {
   "cell_type": "code",
   "execution_count": 40,
   "metadata": {
    "collapsed": false
   },
   "outputs": [
    {
     "data": {
      "text/plain": [
       "array([('!', 0, 0, 3, 10, 0, 2, 4, 4), ('!\"', 0, 0, 0, 5, 0, 0, 0, 0),\n",
       "       ('\"', 23, 13, 20, 32, 0, 0, 22, 9),\n",
       "       (\"'\", 21, 8, 23, 12, 5, 10, 0, 7), ('(', 3, 2, 2, 3, 0, 0, 0, 0)], \n",
       "      dtype=[('token', '<U64'), ('mel_freq1', '<i2'), ('mel_freq0', '<i2'), ('mel_freq2', '<i2'), ('mel_freq3', '<i2'), ('aus_freq0', '<i2'), ('aus_freq1', '<i2'), ('aus_freq2', '<i2'), ('aus_freq3', '<i2')])"
      ]
     },
     "execution_count": 40,
     "metadata": {},
     "output_type": "execute_result"
    }
   ],
   "source": [
    "melnptotal.fill_value\n",
    "\n",
    "def fill_array(nparray):\n",
    "    \"\"\"\n",
    "    Takes a numpy masked array and fills it with zeros. \n",
    "    Assumes first column is tokens. \n",
    "    \"\"\" \n",
    "    size = len(nparray.fill_value)\n",
    "    newFillValue = ['N/A']\n",
    "    for i in range(size-1): \n",
    "        newFillValue.append(0)\n",
    "    newFillValue = tuple(newFillValue)\n",
    "    nparray.fill_value = newFillValue\n",
    "    filledArray = nparray.filled()\n",
    "    return filledArray\n",
    "\n",
    "npfilled = fill_array(melnptotal)\n",
    "npfilled[:5]"
   ]
  },
  {
   "cell_type": "code",
   "execution_count": 41,
   "metadata": {
    "collapsed": false
   },
   "outputs": [],
   "source": [
    "numbers = npfilled.dtype.names[1:] #slice off the token names\n",
    "numbersArray = npfilled[[x for x in numbers]]\n",
    "data = np.array(numbersArray.tolist()).T"
   ]
  },
  {
   "cell_type": "code",
   "execution_count": 90,
   "metadata": {
    "collapsed": false
   },
   "outputs": [
    {
     "data": {
      "text/plain": [
       "array([ -2,   0,   4,   9,   0,   0, -16,   0,  -1,  10,   0,   6,   9,\n",
       "         0,   3,   0,  -3,   0,   0,  -1,   0,   0,   0,   0,   0,   0,\n",
       "         0,  -2,   0,   0,   0,   0,   0,   0,   0,   0,   0,   0,  -2,\n",
       "         0,   0,   0,   0,   0,   0,   0,  -1,  -1,   0,   0,   0,   0,\n",
       "         0,   0,  -1,   0,   2,   0,   0,   0,   0,   0,   0,   1,   0,\n",
       "         0,  -1,  -1,   0,  -1,   0,   0,   0,   0,   0,   0,   0,   0,\n",
       "         0,   0,   0,   0,   0,  -1, -14,   0,   0,   0,  -2,  -1,   0,\n",
       "         0,   0,   0,  -1,   0,  -5,   0,  -1,   0,   0,   0,   0,   0,\n",
       "         0,  -3,   0,  -1,   0,  -1,   0,   0,   0,   0,  -1,   0,   0,\n",
       "         0,   0,   0,  -1,   0,   0,   0,   0,  -1,   0,   0,   0,   0,\n",
       "         0,   0,  -2,   0,   0,   0,   0,   0,   0,   0,   0,   0,   1,\n",
       "         0,   0,   0,   0,  -2,   0,   0,  -6,   0,  -1,  -1,   0,   0,\n",
       "         0,   0,   0,  -1,   0,   8,   0,   0,   0,   0,   0,   0,   0,\n",
       "         0,   0,   0,   0,   0,   0,   0,   0,   0,   0,   0,   0,   0,\n",
       "         0,  -1,   0,   0,   0,   0,   0,  -1,   0,   0,   0,   0,  -1,\n",
       "         0,   0,   0,   0,  -1,  -2,   0,   0,   0,   0,   0,   0,   0,\n",
       "         0,   0,   0,   0,   0,  -1,   0,   0,   0,   0,   0,   0,   0,\n",
       "         0,   0,   0,   0,   0,   0,   0,   1,   0,   0,   0,   0,   0,\n",
       "         0,  -1,   0,   0,   0,   0,  -1,  -3,   0,   0,   0,   0,   0,\n",
       "         0,   0,   0,  -2,   2,   0,  -2,   0,   0,  -1,   0,   0,  -2,\n",
       "         0,   0,   0,   0,   0,  -1,   0,   0,   0,   0,  -8,   0,   0,\n",
       "         0,   0,   0,   0,  -2,   0,   0,   0,   0,  -1,  -2,   0,  -1,\n",
       "         0,   0,   0,   0,   0,   0,   0,  -2,  -1,   0,  -1,  -1,   0])"
      ]
     },
     "execution_count": 90,
     "metadata": {},
     "output_type": "execute_result"
    }
   ],
   "source": [
    "labels = numbersArray.dtype.names\n"
   ]
  },
  {
   "cell_type": "code",
   "execution_count": 92,
   "metadata": {
    "collapsed": false
   },
   "outputs": [
    {
     "name": "stdout",
     "output_type": "stream",
     "text": [
      "[[-24.10405729  -2.3196727 ]\n",
      " [ -2.81029408  -6.34032946]\n",
      " [-18.4708141   -9.71319287]\n",
      " [-25.40785065  -5.01557208]\n",
      " [ 24.3440155  -19.18418368]\n",
      " [ 30.85560102 -12.12546941]\n",
      " [  7.30348625  26.97340572]\n",
      " [  9.55247437  27.59080231]]\n"
     ]
    },
    {
     "data": {
      "image/png": "[encoded data removed]",
      "text/plain": [
       "<matplotlib.figure.Figure at 0x7fe2f1479da0>"
      ]
     },
     "metadata": {},
     "output_type": "display_data"
    }
   ],
   "source": [
    "plot_pca(data)"
   ]
  },
  {
   "cell_type": "code",
   "execution_count": 94,
   "metadata": {
    "collapsed": false
   },
   "outputs": [
    {
     "data": {
      "text/plain": [
       "array([(7.174707364110744, 3.6028816919012803),\n",
       "       (2.630943297842565, 1.524045410802127), (1.5612359529022042, 0.0),\n",
       "       (1.7517895552087845, 0.783301830004716),\n",
       "       (2.309647686709941, 1.2844156292294655), (0.0, 0.9339810366576055),\n",
       "       (2.505952403774265, 1.3668482740904613),\n",
       "       (5.260736372733581, 1.4803369386432736),\n",
       "       (1.7414375486448457, 1.557785284047558)], \n",
       "      dtype=[('mel_perc', '<f8'), ('aus_perc', '<f8')])"
      ]
     },
     "execution_count": 94,
     "metadata": {},
     "output_type": "execute_result"
    }
   ],
   "source": [
    "percs = result[['mel_perc','aus_perc']]\n",
    "percs.fill_value = 0\n",
    "percs = percs.filled()\n",
    "percs"
   ]
  },
  {
   "cell_type": "code",
   "execution_count": 31,
   "metadata": {
    "collapsed": false
   },
   "outputs": [
    {
     "ename": "NameError",
     "evalue": "name 'percs' is not defined",
     "output_type": "error",
     "traceback": [
      "\u001b[1;31m---------------------------------------------------------------------------\u001b[0m\n\u001b[1;31mNameError\u001b[0m                                 Traceback (most recent call last)",
      "\u001b[1;32m<ipython-input-31-b4b2ee186d18>\u001b[0m in \u001b[0;36m<module>\u001b[1;34m()\u001b[0m\n\u001b[1;32m----> 1\u001b[1;33m \u001b[0mpercs2\u001b[0m \u001b[1;33m=\u001b[0m \u001b[0mnp\u001b[0m\u001b[1;33m.\u001b[0m\u001b[0mtranspose\u001b[0m\u001b[1;33m(\u001b[0m\u001b[0mnp\u001b[0m\u001b[1;33m.\u001b[0m\u001b[0marray\u001b[0m\u001b[1;33m(\u001b[0m\u001b[1;33m[\u001b[0m\u001b[0mpercs\u001b[0m\u001b[1;33m[\u001b[0m\u001b[1;34m'mel_perc'\u001b[0m\u001b[1;33m]\u001b[0m\u001b[1;33m,\u001b[0m \u001b[0mpercs\u001b[0m\u001b[1;33m[\u001b[0m\u001b[1;34m'aus_perc'\u001b[0m\u001b[1;33m]\u001b[0m\u001b[1;33m]\u001b[0m\u001b[1;33m)\u001b[0m\u001b[1;33m)\u001b[0m\u001b[1;33m\u001b[0m\u001b[0m\n\u001b[0m\u001b[0;32m      2\u001b[0m \u001b[0mpercs2\u001b[0m\u001b[1;33m\u001b[0m\u001b[0m\n",
      "\u001b[1;31mNameError\u001b[0m: name 'percs' is not defined"
     ]
    }
   ],
   "source": [
    "percs2 = np.transpose(np.array([percs['mel_perc'], percs['aus_perc']]))\n",
    "percs2"
   ]
  },
  {
   "cell_type": "code",
   "execution_count": 30,
   "metadata": {
    "collapsed": false
   },
   "outputs": [
    {
     "ename": "NameError",
     "evalue": "name 'percs2' is not defined",
     "output_type": "error",
     "traceback": [
      "\u001b[1;31m---------------------------------------------------------------------------\u001b[0m\n\u001b[1;31mNameError\u001b[0m                                 Traceback (most recent call last)",
      "\u001b[1;32m<ipython-input-30-e5f723d247a8>\u001b[0m in \u001b[0;36m<module>\u001b[1;34m()\u001b[0m\n\u001b[1;32m----> 1\u001b[1;33m \u001b[0mplot_pca\u001b[0m\u001b[1;33m(\u001b[0m\u001b[0mpercs2\u001b[0m\u001b[1;33m)\u001b[0m\u001b[1;33m\u001b[0m\u001b[0m\n\u001b[0m",
      "\u001b[1;31mNameError\u001b[0m: name 'percs2' is not defined"
     ]
    }
   ],
   "source": [
    "plot_pca(percs2)"
   ]
  },
  {
   "cell_type": "code",
   "execution_count": 143,
   "metadata": {
    "collapsed": false
   },
   "outputs": [
    {
     "data": {
      "text/plain": [
       "(9,)"
      ]
     },
     "execution_count": 143,
     "metadata": {},
     "output_type": "execute_result"
    }
   ],
   "source": [
    "result.shape"
   ]
  },
  {
   "cell_type": "code",
   "execution_count": null,
   "metadata": {
    "collapsed": false
   },
   "outputs": [],
   "source": []
  }
 ],
 "metadata": {
  "gist_id": "5cd08522c05cc557398a",
  "kernelspec": {
   "display_name": "Python 3",
   "language": "python",
   "name": "python3"
  },
  "language_info": {
   "codemirror_mode": {
    "name": "ipython",
    "version": 3
   },
   "file_extension": ".py",
   "mimetype": "text/x-python",
   "name": "python",
   "nbconvert_exporter": "python",
   "pygments_lexer": "ipython3",
   "version": "3.4.3"
  }
 },
 "nbformat": 4,
 "nbformat_minor": 0
}
