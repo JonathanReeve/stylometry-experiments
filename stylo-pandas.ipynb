{
 "cells": [
  {
   "cell_type": "code",
   "execution_count": 5,
   "metadata": {
    "collapsed": true
   },
   "outputs": [],
   "source": [
    "import pandas as pd\n",
    "import matplotlib.pyplot as plt\n",
    "import numpy as np\n",
    "import nltk\n",
    "%matplotlib inline"
   ]
  },
  {
   "cell_type": "code",
   "execution_count": 6,
   "metadata": {
    "collapsed": true
   },
   "outputs": [],
   "source": [
    "# Read the raw text files\n",
    "austenRaw = open('data/austen.txt').read().lower()\n",
    "melvilleRaw = open('data/melville.txt').read().lower()"
   ]
  },
  {
   "cell_type": "code",
   "execution_count": 7,
   "metadata": {
    "collapsed": false
   },
   "outputs": [
    {
     "data": {
      "text/plain": [
       "'\\ufeff\\npride an\\n\\n\\nmoby di'"
      ]
     },
     "execution_count": 7,
     "metadata": {},
     "output_type": "execute_result"
    }
   ],
   "source": [
    "austenRaw[:10] + melvilleRaw[:10]"
   ]
  },
  {
   "cell_type": "code",
   "execution_count": 8,
   "metadata": {
    "collapsed": false
   },
   "outputs": [
    {
     "ename": "SyntaxError",
     "evalue": "invalid syntax (<ipython-input-8-13b2535f9700>, line 2)",
     "output_type": "error",
     "traceback": [
      "\u001b[1;36m  File \u001b[1;32m\"<ipython-input-8-13b2535f9700>\"\u001b[1;36m, line \u001b[1;32m2\u001b[0m\n\u001b[1;33m    austokens = nltk.tokenize.word_tokenize(austenRaw)\u001b[0m\n\u001b[1;37m              ^\u001b[0m\n\u001b[1;31mSyntaxError\u001b[0m\u001b[1;31m:\u001b[0m invalid syntax\n"
     ]
    }
   ],
   "source": [
    "meltokens = [nltk.tokenize.word_tokenize(m) for m in melvilleRaw if m not in \n",
    "austokens = nltk.tokenize.word_tokenize(austenRaw)"
   ]
  },
  {
   "cell_type": "code",
   "execution_count": 12,
   "metadata": {
    "collapsed": false
   },
   "outputs": [],
   "source": [
    "def pieces(text, length, num): \n",
    "    out = [] \n",
    "    for x in range(num): \n",
    "        out.append(text[length*x:length*(x+1)])\n",
    "    return out\n",
    "\n",
    "#mel_pieces = [text1[:1000], text1[1001:2000, text1[2001:3000], text1[3001:4000]]\n",
    "\n",
    "melpieces = pieces(meltokens, 1000, 4)\n",
    "auspieces = pieces(austokens, 1000, 4)"
   ]
  },
  {
   "cell_type": "code",
   "execution_count": 23,
   "metadata": {
    "collapsed": false
   },
   "outputs": [],
   "source": [
    "def freqdists(pieceslist): \n",
    "    dists=[]\n",
    "    for piece in pieceslist: \n",
    "        dists.append(nltk.FreqDist(piece).most_common())\n",
    "    return dists\n",
    "\n",
    "meldists = freqdists(melpieces)\n",
    "ausdists = freqdists(auspieces)"
   ]
  },
  {
   "cell_type": "code",
   "execution_count": 31,
   "metadata": {
    "collapsed": false
   },
   "outputs": [
    {
     "data": {
      "text/plain": [
       "[(',', 76),\n",
       " ('.', 56),\n",
       " ('the', 42),\n",
       " ('and', 30),\n",
       " ('of', 23),\n",
       " ('to', 19),\n",
       " (\"''\", 16),\n",
       " ('a', 15),\n",
       " ('--', 15),\n",
       " ('in', 14)]"
      ]
     },
     "execution_count": 31,
     "metadata": {},
     "output_type": "execute_result"
    }
   ],
   "source": [
    "meldists[0][:10]"
   ]
  },
  {
   "cell_type": "code",
   "execution_count": 34,
   "metadata": {
    "collapsed": false
   },
   "outputs": [
    {
     "ename": "SyntaxError",
     "evalue": "invalid syntax (<ipython-input-34-da7e00072892>, line 1)",
     "output_type": "error",
     "traceback": [
      "\u001b[1;36m  File \u001b[1;32m\"<ipython-input-34-da7e00072892>\"\u001b[1;36m, line \u001b[1;32m1\u001b[0m\n\u001b[1;33m    [,]\u001b[0m\n\u001b[1;37m     ^\u001b[0m\n\u001b[1;31mSyntaxError\u001b[0m\u001b[1;31m:\u001b[0m invalid syntax\n"
     ]
    }
   ],
   "source": []
  },
  {
   "cell_type": "code",
   "execution_count": null,
   "metadata": {
    "collapsed": true
   },
   "outputs": [],
   "source": []
  }
 ],
 "metadata": {
  "kernelspec": {
   "display_name": "Python 3",
   "language": "python",
   "name": "python3"
  },
  "language_info": {
   "codemirror_mode": {
    "name": "ipython",
    "version": 3
   },
   "file_extension": ".py",
   "mimetype": "text/x-python",
   "name": "python",
   "nbconvert_exporter": "python",
   "pygments_lexer": "ipython3",
   "version": "3.4.3"
  }
 },
 "nbformat": 4,
 "nbformat_minor": 0
}
